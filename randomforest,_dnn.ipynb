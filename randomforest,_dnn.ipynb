{
  "nbformat": 4,
  "nbformat_minor": 0,
  "metadata": {
    "colab": {
      "name": "randomforest, dnn.ipynb",
      "provenance": [],
      "collapsed_sections": []
    },
    "kernelspec": {
      "name": "python3",
      "display_name": "Python 3"
    },
    "language_info": {
      "name": "python"
    }
  },
  "cells": [
    {
      "cell_type": "code",
      "metadata": {
        "id": "nUUEfTO86d1Z"
      },
      "source": [
        "import pandas as pd\n",
        "import pandas as pd\n",
        "import matplotlib.pyplot as plt\n",
        "import numpy as np"
      ],
      "execution_count": 58,
      "outputs": []
    },
    {
      "cell_type": "code",
      "metadata": {
        "id": "3bU70Bn68uh5"
      },
      "source": [
        "data=pd.read_csv('/content/drive/MyDrive/implementation.csv')"
      ],
      "execution_count": 59,
      "outputs": []
    },
    {
      "cell_type": "code",
      "metadata": {
        "colab": {
          "base_uri": "https://localhost:8080/",
          "height": 204
        },
        "id": "ZjGXucho87Ex",
        "outputId": "b5894f4a-f289-4dc4-e2e7-6f8a2b68b8a1"
      },
      "source": [
        "data.head(5)"
      ],
      "execution_count": 60,
      "outputs": [
        {
          "output_type": "execute_result",
          "data": {
            "text/html": [
              "<div>\n",
              "<style scoped>\n",
              "    .dataframe tbody tr th:only-of-type {\n",
              "        vertical-align: middle;\n",
              "    }\n",
              "\n",
              "    .dataframe tbody tr th {\n",
              "        vertical-align: top;\n",
              "    }\n",
              "\n",
              "    .dataframe thead th {\n",
              "        text-align: right;\n",
              "    }\n",
              "</style>\n",
              "<table border=\"1\" class=\"dataframe\">\n",
              "  <thead>\n",
              "    <tr style=\"text-align: right;\">\n",
              "      <th></th>\n",
              "      <th>ID</th>\n",
              "      <th>CC_area</th>\n",
              "      <th>CC_perimeter</th>\n",
              "      <th>CC_circularity</th>\n",
              "      <th>CC_length</th>\n",
              "      <th>W1</th>\n",
              "      <th>W2</th>\n",
              "      <th>W3</th>\n",
              "      <th>W4</th>\n",
              "      <th>W5</th>\n",
              "      <th>W6</th>\n",
              "      <th>W7</th>\n",
              "      <th>GROUP</th>\n",
              "    </tr>\n",
              "  </thead>\n",
              "  <tbody>\n",
              "    <tr>\n",
              "      <th>0</th>\n",
              "      <td>./Caltech/0051456/session_1/anat_1/abide_cc</td>\n",
              "      <td>646.25</td>\n",
              "      <td>208.77</td>\n",
              "      <td>0.186321</td>\n",
              "      <td>72.5</td>\n",
              "      <td>13.00</td>\n",
              "      <td>139.75</td>\n",
              "      <td>88.75</td>\n",
              "      <td>84.25</td>\n",
              "      <td>58.5</td>\n",
              "      <td>50.50</td>\n",
              "      <td>211.50</td>\n",
              "      <td>1</td>\n",
              "    </tr>\n",
              "    <tr>\n",
              "      <th>1</th>\n",
              "      <td>./Caltech/0051457/session_1/anat_1/abide_cc</td>\n",
              "      <td>638.50</td>\n",
              "      <td>216.94</td>\n",
              "      <td>0.170480</td>\n",
              "      <td>79.5</td>\n",
              "      <td>26.50</td>\n",
              "      <td>161.75</td>\n",
              "      <td>94.25</td>\n",
              "      <td>70.00</td>\n",
              "      <td>54.0</td>\n",
              "      <td>56.75</td>\n",
              "      <td>175.25</td>\n",
              "      <td>1</td>\n",
              "    </tr>\n",
              "    <tr>\n",
              "      <th>2</th>\n",
              "      <td>./Caltech/0051458/session_1/anat_1/abide_cc</td>\n",
              "      <td>610.75</td>\n",
              "      <td>205.70</td>\n",
              "      <td>0.181383</td>\n",
              "      <td>75.5</td>\n",
              "      <td>8.50</td>\n",
              "      <td>118.75</td>\n",
              "      <td>103.25</td>\n",
              "      <td>68.75</td>\n",
              "      <td>63.5</td>\n",
              "      <td>57.00</td>\n",
              "      <td>191.00</td>\n",
              "      <td>1</td>\n",
              "    </tr>\n",
              "    <tr>\n",
              "      <th>3</th>\n",
              "      <td>./Caltech/0051459/session_1/anat_1/abide_cc</td>\n",
              "      <td>649.00</td>\n",
              "      <td>213.80</td>\n",
              "      <td>0.178414</td>\n",
              "      <td>78.5</td>\n",
              "      <td>30.25</td>\n",
              "      <td>151.25</td>\n",
              "      <td>99.25</td>\n",
              "      <td>64.25</td>\n",
              "      <td>44.5</td>\n",
              "      <td>55.25</td>\n",
              "      <td>204.25</td>\n",
              "      <td>1</td>\n",
              "    </tr>\n",
              "    <tr>\n",
              "      <th>4</th>\n",
              "      <td>./Caltech/0051460/session_1/anat_1/abide_cc</td>\n",
              "      <td>633.75</td>\n",
              "      <td>203.80</td>\n",
              "      <td>0.191738</td>\n",
              "      <td>68.5</td>\n",
              "      <td>36.00</td>\n",
              "      <td>135.75</td>\n",
              "      <td>85.75</td>\n",
              "      <td>72.00</td>\n",
              "      <td>63.5</td>\n",
              "      <td>50.75</td>\n",
              "      <td>190.00</td>\n",
              "      <td>1</td>\n",
              "    </tr>\n",
              "  </tbody>\n",
              "</table>\n",
              "</div>"
            ],
            "text/plain": [
              "                                            ID   CC_area  ...      W7  GROUP\n",
              "0  ./Caltech/0051456/session_1/anat_1/abide_cc    646.25  ...  211.50      1\n",
              "1  ./Caltech/0051457/session_1/anat_1/abide_cc    638.50  ...  175.25      1\n",
              "2  ./Caltech/0051458/session_1/anat_1/abide_cc    610.75  ...  191.00      1\n",
              "3  ./Caltech/0051459/session_1/anat_1/abide_cc    649.00  ...  204.25      1\n",
              "4  ./Caltech/0051460/session_1/anat_1/abide_cc    633.75  ...  190.00      1\n",
              "\n",
              "[5 rows x 13 columns]"
            ]
          },
          "metadata": {
            "tags": []
          },
          "execution_count": 60
        }
      ]
    },
    {
      "cell_type": "code",
      "metadata": {
        "id": "GiOBF8p289tn"
      },
      "source": [
        "data.drop('ID',axis=1,inplace=True)"
      ],
      "execution_count": 61,
      "outputs": []
    },
    {
      "cell_type": "code",
      "metadata": {
        "colab": {
          "base_uri": "https://localhost:8080/",
          "height": 204
        },
        "id": "K1yRHhtk9Y7C",
        "outputId": "46ad7b3a-f34d-43db-8acb-8133ec793e56"
      },
      "source": [
        "data.head(5)"
      ],
      "execution_count": 10,
      "outputs": [
        {
          "output_type": "execute_result",
          "data": {
            "text/html": [
              "<div>\n",
              "<style scoped>\n",
              "    .dataframe tbody tr th:only-of-type {\n",
              "        vertical-align: middle;\n",
              "    }\n",
              "\n",
              "    .dataframe tbody tr th {\n",
              "        vertical-align: top;\n",
              "    }\n",
              "\n",
              "    .dataframe thead th {\n",
              "        text-align: right;\n",
              "    }\n",
              "</style>\n",
              "<table border=\"1\" class=\"dataframe\">\n",
              "  <thead>\n",
              "    <tr style=\"text-align: right;\">\n",
              "      <th></th>\n",
              "      <th>CC_area</th>\n",
              "      <th>CC_perimeter</th>\n",
              "      <th>CC_circularity</th>\n",
              "      <th>CC_length</th>\n",
              "      <th>W1</th>\n",
              "      <th>W2</th>\n",
              "      <th>W3</th>\n",
              "      <th>W4</th>\n",
              "      <th>W5</th>\n",
              "      <th>W6</th>\n",
              "      <th>W7</th>\n",
              "      <th>GROUP</th>\n",
              "    </tr>\n",
              "  </thead>\n",
              "  <tbody>\n",
              "    <tr>\n",
              "      <th>0</th>\n",
              "      <td>646.25</td>\n",
              "      <td>208.77</td>\n",
              "      <td>0.186321</td>\n",
              "      <td>72.5</td>\n",
              "      <td>13.00</td>\n",
              "      <td>139.75</td>\n",
              "      <td>88.75</td>\n",
              "      <td>84.25</td>\n",
              "      <td>58.5</td>\n",
              "      <td>50.50</td>\n",
              "      <td>211.50</td>\n",
              "      <td>1</td>\n",
              "    </tr>\n",
              "    <tr>\n",
              "      <th>1</th>\n",
              "      <td>638.50</td>\n",
              "      <td>216.94</td>\n",
              "      <td>0.170480</td>\n",
              "      <td>79.5</td>\n",
              "      <td>26.50</td>\n",
              "      <td>161.75</td>\n",
              "      <td>94.25</td>\n",
              "      <td>70.00</td>\n",
              "      <td>54.0</td>\n",
              "      <td>56.75</td>\n",
              "      <td>175.25</td>\n",
              "      <td>1</td>\n",
              "    </tr>\n",
              "    <tr>\n",
              "      <th>2</th>\n",
              "      <td>610.75</td>\n",
              "      <td>205.70</td>\n",
              "      <td>0.181383</td>\n",
              "      <td>75.5</td>\n",
              "      <td>8.50</td>\n",
              "      <td>118.75</td>\n",
              "      <td>103.25</td>\n",
              "      <td>68.75</td>\n",
              "      <td>63.5</td>\n",
              "      <td>57.00</td>\n",
              "      <td>191.00</td>\n",
              "      <td>1</td>\n",
              "    </tr>\n",
              "    <tr>\n",
              "      <th>3</th>\n",
              "      <td>649.00</td>\n",
              "      <td>213.80</td>\n",
              "      <td>0.178414</td>\n",
              "      <td>78.5</td>\n",
              "      <td>30.25</td>\n",
              "      <td>151.25</td>\n",
              "      <td>99.25</td>\n",
              "      <td>64.25</td>\n",
              "      <td>44.5</td>\n",
              "      <td>55.25</td>\n",
              "      <td>204.25</td>\n",
              "      <td>1</td>\n",
              "    </tr>\n",
              "    <tr>\n",
              "      <th>4</th>\n",
              "      <td>633.75</td>\n",
              "      <td>203.80</td>\n",
              "      <td>0.191738</td>\n",
              "      <td>68.5</td>\n",
              "      <td>36.00</td>\n",
              "      <td>135.75</td>\n",
              "      <td>85.75</td>\n",
              "      <td>72.00</td>\n",
              "      <td>63.5</td>\n",
              "      <td>50.75</td>\n",
              "      <td>190.00</td>\n",
              "      <td>1</td>\n",
              "    </tr>\n",
              "  </tbody>\n",
              "</table>\n",
              "</div>"
            ],
            "text/plain": [
              "    CC_area   CC_perimeter   CC_circularity  ...     W6      W7  GROUP\n",
              "0    646.25         208.77         0.186321  ...  50.50  211.50      1\n",
              "1    638.50         216.94         0.170480  ...  56.75  175.25      1\n",
              "2    610.75         205.70         0.181383  ...  57.00  191.00      1\n",
              "3    649.00         213.80         0.178414  ...  55.25  204.25      1\n",
              "4    633.75         203.80         0.191738  ...  50.75  190.00      1\n",
              "\n",
              "[5 rows x 12 columns]"
            ]
          },
          "metadata": {
            "tags": []
          },
          "execution_count": 10
        }
      ]
    },
    {
      "cell_type": "code",
      "metadata": {
        "colab": {
          "base_uri": "https://localhost:8080/"
        },
        "id": "-EkSV9di9cvR",
        "outputId": "82e1511d-009d-41ce-a43f-6aef77ca5488"
      },
      "source": [
        "data.isnull().values.any()"
      ],
      "execution_count": 62,
      "outputs": [
        {
          "output_type": "execute_result",
          "data": {
            "text/plain": [
              "False"
            ]
          },
          "metadata": {
            "tags": []
          },
          "execution_count": 62
        }
      ]
    },
    {
      "cell_type": "code",
      "metadata": {
        "colab": {
          "base_uri": "https://localhost:8080/",
          "height": 1000
        },
        "id": "8BcOkgNO9i8X",
        "outputId": "dc4cbc34-bdf8-4c74-a8f2-4b15ffe83caf"
      },
      "source": [
        "import seaborn as sns\n",
        "import matplotlib.pyplot as plt\n",
        "corrmat = data.corr()\n",
        "top_corr_features = corrmat.index\n",
        "plt.figure(figsize=(20,20))\n",
        "#plot heat map\n",
        "g=sns.heatmap(data[top_corr_features].corr(),annot=True,cmap=\"RdYlGn\")"
      ],
      "execution_count": 63,
      "outputs": [
        {
          "output_type": "display_data",
          "data": {
            "image/png": "[encoded data removed]",
            "text/plain": [
              "<Figure size 1440x1440 with 2 Axes>"
            ]
          },
          "metadata": {
            "tags": [],
            "needs_background": "light"
          }
        }
      ]
    },
    {
      "cell_type": "code",
      "metadata": {
        "colab": {
          "base_uri": "https://localhost:8080/",
          "height": 421
        },
        "id": "kiURUhyI9rmc",
        "outputId": "065f62f5-bf0a-4bfe-9bc7-e6aa62babbd5"
      },
      "source": [
        "data.corr()"
      ],
      "execution_count": 64,
      "outputs": [
        {
          "output_type": "execute_result",
          "data": {
            "text/html": [
              "<div>\n",
              "<style scoped>\n",
              "    .dataframe tbody tr th:only-of-type {\n",
              "        vertical-align: middle;\n",
              "    }\n",
              "\n",
              "    .dataframe tbody tr th {\n",
              "        vertical-align: top;\n",
              "    }\n",
              "\n",
              "    .dataframe thead th {\n",
              "        text-align: right;\n",
              "    }\n",
              "</style>\n",
              "<table border=\"1\" class=\"dataframe\">\n",
              "  <thead>\n",
              "    <tr style=\"text-align: right;\">\n",
              "      <th></th>\n",
              "      <th>CC_area</th>\n",
              "      <th>CC_perimeter</th>\n",
              "      <th>CC_circularity</th>\n",
              "      <th>CC_length</th>\n",
              "      <th>W1</th>\n",
              "      <th>W2</th>\n",
              "      <th>W3</th>\n",
              "      <th>W4</th>\n",
              "      <th>W5</th>\n",
              "      <th>W6</th>\n",
              "      <th>W7</th>\n",
              "      <th>GROUP</th>\n",
              "    </tr>\n",
              "  </thead>\n",
              "  <tbody>\n",
              "    <tr>\n",
              "      <th>CC_area</th>\n",
              "      <td>1.000000</td>\n",
              "      <td>0.787921</td>\n",
              "      <td>0.388335</td>\n",
              "      <td>0.710320</td>\n",
              "      <td>0.365278</td>\n",
              "      <td>0.741684</td>\n",
              "      <td>0.702518</td>\n",
              "      <td>0.891100</td>\n",
              "      <td>0.866237</td>\n",
              "      <td>0.848235</td>\n",
              "      <td>0.897618</td>\n",
              "      <td>-0.003219</td>\n",
              "    </tr>\n",
              "    <tr>\n",
              "      <th>CC_perimeter</th>\n",
              "      <td>0.787921</td>\n",
              "      <td>1.000000</td>\n",
              "      <td>-0.251789</td>\n",
              "      <td>0.888800</td>\n",
              "      <td>0.476855</td>\n",
              "      <td>0.429769</td>\n",
              "      <td>0.685492</td>\n",
              "      <td>0.656166</td>\n",
              "      <td>0.654255</td>\n",
              "      <td>0.588087</td>\n",
              "      <td>0.769404</td>\n",
              "      <td>-0.051854</td>\n",
              "    </tr>\n",
              "    <tr>\n",
              "      <th>CC_circularity</th>\n",
              "      <td>0.388335</td>\n",
              "      <td>-0.251789</td>\n",
              "      <td>1.000000</td>\n",
              "      <td>-0.220006</td>\n",
              "      <td>-0.133320</td>\n",
              "      <td>0.516957</td>\n",
              "      <td>0.073205</td>\n",
              "      <td>0.413815</td>\n",
              "      <td>0.376962</td>\n",
              "      <td>0.439766</td>\n",
              "      <td>0.261083</td>\n",
              "      <td>0.073404</td>\n",
              "    </tr>\n",
              "    <tr>\n",
              "      <th>CC_length</th>\n",
              "      <td>0.710320</td>\n",
              "      <td>0.888800</td>\n",
              "      <td>-0.220006</td>\n",
              "      <td>1.000000</td>\n",
              "      <td>0.316229</td>\n",
              "      <td>0.422234</td>\n",
              "      <td>0.599240</td>\n",
              "      <td>0.651035</td>\n",
              "      <td>0.596483</td>\n",
              "      <td>0.534730</td>\n",
              "      <td>0.685390</td>\n",
              "      <td>-0.012705</td>\n",
              "    </tr>\n",
              "    <tr>\n",
              "      <th>W1</th>\n",
              "      <td>0.365278</td>\n",
              "      <td>0.476855</td>\n",
              "      <td>-0.133320</td>\n",
              "      <td>0.316229</td>\n",
              "      <td>1.000000</td>\n",
              "      <td>-0.063093</td>\n",
              "      <td>0.407287</td>\n",
              "      <td>0.268123</td>\n",
              "      <td>0.281587</td>\n",
              "      <td>0.264042</td>\n",
              "      <td>0.291421</td>\n",
              "      <td>-0.005864</td>\n",
              "    </tr>\n",
              "    <tr>\n",
              "      <th>W2</th>\n",
              "      <td>0.741684</td>\n",
              "      <td>0.429769</td>\n",
              "      <td>0.516957</td>\n",
              "      <td>0.422234</td>\n",
              "      <td>-0.063093</td>\n",
              "      <td>1.000000</td>\n",
              "      <td>0.239147</td>\n",
              "      <td>0.663068</td>\n",
              "      <td>0.602302</td>\n",
              "      <td>0.550079</td>\n",
              "      <td>0.560776</td>\n",
              "      <td>-0.004160</td>\n",
              "    </tr>\n",
              "    <tr>\n",
              "      <th>W3</th>\n",
              "      <td>0.702518</td>\n",
              "      <td>0.685492</td>\n",
              "      <td>0.073205</td>\n",
              "      <td>0.599240</td>\n",
              "      <td>0.407287</td>\n",
              "      <td>0.239147</td>\n",
              "      <td>1.000000</td>\n",
              "      <td>0.636977</td>\n",
              "      <td>0.560931</td>\n",
              "      <td>0.561325</td>\n",
              "      <td>0.577656</td>\n",
              "      <td>-0.016690</td>\n",
              "    </tr>\n",
              "    <tr>\n",
              "      <th>W4</th>\n",
              "      <td>0.891100</td>\n",
              "      <td>0.656166</td>\n",
              "      <td>0.413815</td>\n",
              "      <td>0.651035</td>\n",
              "      <td>0.268123</td>\n",
              "      <td>0.663068</td>\n",
              "      <td>0.636977</td>\n",
              "      <td>1.000000</td>\n",
              "      <td>0.845498</td>\n",
              "      <td>0.710337</td>\n",
              "      <td>0.720484</td>\n",
              "      <td>0.012900</td>\n",
              "    </tr>\n",
              "    <tr>\n",
              "      <th>W5</th>\n",
              "      <td>0.866237</td>\n",
              "      <td>0.654255</td>\n",
              "      <td>0.376962</td>\n",
              "      <td>0.596483</td>\n",
              "      <td>0.281587</td>\n",
              "      <td>0.602302</td>\n",
              "      <td>0.560931</td>\n",
              "      <td>0.845498</td>\n",
              "      <td>1.000000</td>\n",
              "      <td>0.768382</td>\n",
              "      <td>0.725323</td>\n",
              "      <td>-0.018137</td>\n",
              "    </tr>\n",
              "    <tr>\n",
              "      <th>W6</th>\n",
              "      <td>0.848235</td>\n",
              "      <td>0.588087</td>\n",
              "      <td>0.439766</td>\n",
              "      <td>0.534730</td>\n",
              "      <td>0.264042</td>\n",
              "      <td>0.550079</td>\n",
              "      <td>0.561325</td>\n",
              "      <td>0.710337</td>\n",
              "      <td>0.768382</td>\n",
              "      <td>1.000000</td>\n",
              "      <td>0.775038</td>\n",
              "      <td>-0.010836</td>\n",
              "    </tr>\n",
              "    <tr>\n",
              "      <th>W7</th>\n",
              "      <td>0.897618</td>\n",
              "      <td>0.769404</td>\n",
              "      <td>0.261083</td>\n",
              "      <td>0.685390</td>\n",
              "      <td>0.291421</td>\n",
              "      <td>0.560776</td>\n",
              "      <td>0.577656</td>\n",
              "      <td>0.720484</td>\n",
              "      <td>0.725323</td>\n",
              "      <td>0.775038</td>\n",
              "      <td>1.000000</td>\n",
              "      <td>0.011450</td>\n",
              "    </tr>\n",
              "    <tr>\n",
              "      <th>GROUP</th>\n",
              "      <td>-0.003219</td>\n",
              "      <td>-0.051854</td>\n",
              "      <td>0.073404</td>\n",
              "      <td>-0.012705</td>\n",
              "      <td>-0.005864</td>\n",
              "      <td>-0.004160</td>\n",
              "      <td>-0.016690</td>\n",
              "      <td>0.012900</td>\n",
              "      <td>-0.018137</td>\n",
              "      <td>-0.010836</td>\n",
              "      <td>0.011450</td>\n",
              "      <td>1.000000</td>\n",
              "    </tr>\n",
              "  </tbody>\n",
              "</table>\n",
              "</div>"
            ],
            "text/plain": [
              "                  CC_area   CC_perimeter  ...        W7     GROUP\n",
              " CC_area         1.000000       0.787921  ...  0.897618 -0.003219\n",
              " CC_perimeter    0.787921       1.000000  ...  0.769404 -0.051854\n",
              " CC_circularity  0.388335      -0.251789  ...  0.261083  0.073404\n",
              " CC_length       0.710320       0.888800  ...  0.685390 -0.012705\n",
              " W1              0.365278       0.476855  ...  0.291421 -0.005864\n",
              " W2              0.741684       0.429769  ...  0.560776 -0.004160\n",
              " W3              0.702518       0.685492  ...  0.577656 -0.016690\n",
              " W4              0.891100       0.656166  ...  0.720484  0.012900\n",
              " W5              0.866237       0.654255  ...  0.725323 -0.018137\n",
              " W6              0.848235       0.588087  ...  0.775038 -0.010836\n",
              " W7              0.897618       0.769404  ...  1.000000  0.011450\n",
              "GROUP           -0.003219      -0.051854  ...  0.011450  1.000000\n",
              "\n",
              "[12 rows x 12 columns]"
            ]
          },
          "metadata": {
            "tags": []
          },
          "execution_count": 64
        }
      ]
    },
    {
      "cell_type": "code",
      "metadata": {
        "id": "Mn5SxaMT-EMB"
      },
      "source": [
        "autism_true_count=len(data.loc[data['GROUP']==1])\n",
        "autism_false_count=len(data.loc[data['GROUP']==2])\n"
      ],
      "execution_count": 65,
      "outputs": []
    },
    {
      "cell_type": "code",
      "metadata": {
        "colab": {
          "base_uri": "https://localhost:8080/"
        },
        "id": "M5yan-XN_p4S",
        "outputId": "d7f3f324-b2b9-4437-8547-2f4b10a48ba8"
      },
      "source": [
        "(autism_true_count,autism_false_count)"
      ],
      "execution_count": 66,
      "outputs": [
        {
          "output_type": "execute_result",
          "data": {
            "text/plain": [
              "(530, 570)"
            ]
          },
          "metadata": {
            "tags": []
          },
          "execution_count": 66
        }
      ]
    },
    {
      "cell_type": "code",
      "metadata": {
        "id": "zUCpZnpm_37Q"
      },
      "source": [
        "from sklearn.model_selection import train_test_split"
      ],
      "execution_count": 67,
      "outputs": []
    },
    {
      "cell_type": "code",
      "metadata": {
        "id": "6WNTC9YAAn_1"
      },
      "source": [
        "X=data.iloc[:,:-1]\n",
        "y=data.iloc[:,-1]\n",
        "X_train, X_test, y_train, y_test = train_test_split(X, y, test_size = 0.30, random_state=10)"
      ],
      "execution_count": 68,
      "outputs": []
    },
    {
      "cell_type": "code",
      "metadata": {
        "colab": {
          "base_uri": "https://localhost:8080/"
        },
        "id": "4Jn_D8qbCPFv",
        "outputId": "5b58ea75-098a-4ade-cc38-3f70a9f7ea37"
      },
      "source": [
        "from sklearn.ensemble import RandomForestClassifier\n",
        "random_forest_model = RandomForestClassifier(random_state=10)\n",
        "\n",
        "random_forest_model.fit(X_train, y_train.ravel())"
      ],
      "execution_count": 69,
      "outputs": [
        {
          "output_type": "execute_result",
          "data": {
            "text/plain": [
              "RandomForestClassifier(bootstrap=True, ccp_alpha=0.0, class_weight=None,\n",
              "                       criterion='gini', max_depth=None, max_features='auto',\n",
              "                       max_leaf_nodes=None, max_samples=None,\n",
              "                       min_impurity_decrease=0.0, min_impurity_split=None,\n",
              "                       min_samples_leaf=1, min_samples_split=2,\n",
              "                       min_weight_fraction_leaf=0.0, n_estimators=100,\n",
              "                       n_jobs=None, oob_score=False, random_state=10, verbose=0,\n",
              "                       warm_start=False)"
            ]
          },
          "metadata": {
            "tags": []
          },
          "execution_count": 69
        }
      ]
    },
    {
      "cell_type": "code",
      "metadata": {
        "id": "uyjSDQJ-9Evy"
      },
      "source": [
        "new_input = [[646.25,208.77,\t0.186321,\t72.5,\t13,\t139.75,\t88.75,\t84.25,\t58.5,\t50.5,211.5]]\n",
        "\n",
        "new_output = random_forest_model.predict(new_input)"
      ],
      "execution_count": 70,
      "outputs": []
    },
    {
      "cell_type": "code",
      "metadata": {
        "colab": {
          "base_uri": "https://localhost:8080/"
        },
        "id": "mpgDtsv49jBu",
        "outputId": "3f2a7298-759c-4dfd-b111-135d874e3e7d"
      },
      "source": [
        "print(new_input,new_output)"
      ],
      "execution_count": 71,
      "outputs": [
        {
          "output_type": "stream",
          "text": [
            "[[646.25, 208.77, 0.186321, 72.5, 13, 139.75, 88.75, 84.25, 58.5, 50.5, 211.5]] [1]\n"
          ],
          "name": "stdout"
        }
      ]
    },
    {
      "cell_type": "code",
      "metadata": {
        "colab": {
          "base_uri": "https://localhost:8080/"
        },
        "id": "goRfzoicCSV-",
        "outputId": "9f813bff-da86-4d4f-ee7f-3d4ab390538d"
      },
      "source": [
        "predict_train_data = random_forest_model.predict(X_test)\n",
        "\n",
        "from sklearn import metrics\n",
        "\n",
        "print(\"Accuracy = {0:.3f}\".format(metrics.accuracy_score(y_test, predict_train_data)))"
      ],
      "execution_count": 29,
      "outputs": [
        {
          "output_type": "stream",
          "text": [
            "Accuracy = 0.542\n"
          ],
          "name": "stdout"
        }
      ]
    },
    {
      "cell_type": "code",
      "metadata": {
        "id": "c0Y1651lDM2o"
      },
      "source": [
        "from sklearn.model_selection import RandomizedSearchCV\n",
        "import xgboost"
      ],
      "execution_count": 30,
      "outputs": []
    },
    {
      "cell_type": "code",
      "metadata": {
        "id": "xvmT0JoKDSAa"
      },
      "source": [
        "params={\n",
        " \"learning_rate\"    : [0.05, 0.10, 0.15, 0.20, 0.25, 0.30 ] ,\n",
        " \"max_depth\"        : [ 3, 4, 5, 6, 8, 10, 12, 15],\n",
        " \"min_child_weight\" : [ 1, 3, 5, 7 ],\n",
        " \"gamma\"            : [ 0.0, 0.1, 0.2 , 0.3, 0.4 ],\n",
        " \"colsample_bytree\" : [ 0.3, 0.4, 0.5 , 0.7 ]\n",
        "    \n",
        "}"
      ],
      "execution_count": 31,
      "outputs": []
    },
    {
      "cell_type": "code",
      "metadata": {
        "id": "c_kqkOKdDU3p"
      },
      "source": [
        "classifier=xgboost.XGBClassifier()\n",
        "random_search=RandomizedSearchCV(classifier,param_distributions=params,n_iter=5,scoring='roc_auc',n_jobs=-1,cv=5,verbose=3)"
      ],
      "execution_count": 32,
      "outputs": []
    },
    {
      "cell_type": "code",
      "metadata": {
        "colab": {
          "base_uri": "https://localhost:8080/"
        },
        "id": "WWnnxF0iDdqz",
        "outputId": "b284208d-f0d3-4a65-a467-0821a28a17e3"
      },
      "source": [
        "random_search.get_params"
      ],
      "execution_count": 34,
      "outputs": [
        {
          "output_type": "execute_result",
          "data": {
            "text/plain": [
              "<bound method BaseEstimator.get_params of RandomizedSearchCV(cv=5, error_score=nan,\n",
              "                   estimator=XGBClassifier(base_score=0.5, booster='gbtree',\n",
              "                                           colsample_bylevel=1,\n",
              "                                           colsample_bynode=1,\n",
              "                                           colsample_bytree=1, gamma=0,\n",
              "                                           learning_rate=0.1, max_delta_step=0,\n",
              "                                           max_depth=3, min_child_weight=1,\n",
              "                                           missing=None, n_estimators=100,\n",
              "                                           n_jobs=1, nthread=None,\n",
              "                                           objective='binary:logistic',\n",
              "                                           random_state=0, reg_alpha=0,\n",
              "                                           reg_lambda=1, sc...\n",
              "                                           verbosity=1),\n",
              "                   iid='deprecated', n_iter=5, n_jobs=-1,\n",
              "                   param_distributions={'colsample_bytree': [0.3, 0.4, 0.5,\n",
              "                                                             0.7],\n",
              "                                        'gamma': [0.0, 0.1, 0.2, 0.3, 0.4],\n",
              "                                        'learning_rate': [0.05, 0.1, 0.15, 0.2,\n",
              "                                                          0.25, 0.3],\n",
              "                                        'max_depth': [3, 4, 5, 6, 8, 10, 12,\n",
              "                                                      15],\n",
              "                                        'min_child_weight': [1, 3, 5, 7]},\n",
              "                   pre_dispatch='2*n_jobs', random_state=None, refit=True,\n",
              "                   return_train_score=False, scoring='roc_auc', verbose=3)>"
            ]
          },
          "metadata": {
            "tags": []
          },
          "execution_count": 34
        }
      ]
    },
    {
      "cell_type": "code",
      "metadata": {
        "colab": {
          "base_uri": "https://localhost:8080/"
        },
        "id": "qMqFPvMoEWJ1",
        "outputId": "deff5f2d-d41e-4cc3-8cc4-49b9278aa81d"
      },
      "source": [
        "random_search.fit(X,y)"
      ],
      "execution_count": 35,
      "outputs": [
        {
          "output_type": "stream",
          "text": [
            "Fitting 5 folds for each of 5 candidates, totalling 25 fits\n"
          ],
          "name": "stdout"
        },
        {
          "output_type": "stream",
          "text": [
            "[Parallel(n_jobs=-1)]: Using backend LokyBackend with 2 concurrent workers.\n",
            "[Parallel(n_jobs=-1)]: Done  25 out of  25 | elapsed:    4.4s finished\n"
          ],
          "name": "stderr"
        },
        {
          "output_type": "execute_result",
          "data": {
            "text/plain": [
              "RandomizedSearchCV(cv=5, error_score=nan,\n",
              "                   estimator=XGBClassifier(base_score=0.5, booster='gbtree',\n",
              "                                           colsample_bylevel=1,\n",
              "                                           colsample_bynode=1,\n",
              "                                           colsample_bytree=1, gamma=0,\n",
              "                                           learning_rate=0.1, max_delta_step=0,\n",
              "                                           max_depth=3, min_child_weight=1,\n",
              "                                           missing=None, n_estimators=100,\n",
              "                                           n_jobs=1, nthread=None,\n",
              "                                           objective='binary:logistic',\n",
              "                                           random_state=0, reg_alpha=0,\n",
              "                                           reg_lambda=1, sc...\n",
              "                                           verbosity=1),\n",
              "                   iid='deprecated', n_iter=5, n_jobs=-1,\n",
              "                   param_distributions={'colsample_bytree': [0.3, 0.4, 0.5,\n",
              "                                                             0.7],\n",
              "                                        'gamma': [0.0, 0.1, 0.2, 0.3, 0.4],\n",
              "                                        'learning_rate': [0.05, 0.1, 0.15, 0.2,\n",
              "                                                          0.25, 0.3],\n",
              "                                        'max_depth': [3, 4, 5, 6, 8, 10, 12,\n",
              "                                                      15],\n",
              "                                        'min_child_weight': [1, 3, 5, 7]},\n",
              "                   pre_dispatch='2*n_jobs', random_state=None, refit=True,\n",
              "                   return_train_score=False, scoring='roc_auc', verbose=3)"
            ]
          },
          "metadata": {
            "tags": []
          },
          "execution_count": 35
        }
      ]
    },
    {
      "cell_type": "code",
      "metadata": {
        "colab": {
          "base_uri": "https://localhost:8080/"
        },
        "id": "oQUAcQFIElw_",
        "outputId": "8cc1bf24-8910-4099-de5b-299685e22436"
      },
      "source": [
        "random_search.best_estimator_"
      ],
      "execution_count": 36,
      "outputs": [
        {
          "output_type": "execute_result",
          "data": {
            "text/plain": [
              "XGBClassifier(base_score=0.5, booster='gbtree', colsample_bylevel=1,\n",
              "              colsample_bynode=1, colsample_bytree=0.5, gamma=0.3,\n",
              "              learning_rate=0.25, max_delta_step=0, max_depth=8,\n",
              "              min_child_weight=7, missing=None, n_estimators=100, n_jobs=1,\n",
              "              nthread=None, objective='binary:logistic', random_state=0,\n",
              "              reg_alpha=0, reg_lambda=1, scale_pos_weight=1, seed=None,\n",
              "              silent=None, subsample=1, verbosity=1)"
            ]
          },
          "metadata": {
            "tags": []
          },
          "execution_count": 36
        }
      ]
    },
    {
      "cell_type": "code",
      "metadata": {
        "id": "Z5-aYbpoEsdm"
      },
      "source": [
        "classifier=xgboost.XGBClassifier(base_score=0.5, booster='gbtree', colsample_bylevel=1,\n",
        "       colsample_bytree=0.3, gamma=0.0, learning_rate=0.25,\n",
        "       max_delta_step=0, max_depth=3, min_child_weight=7, missing=None,\n",
        "       n_estimators=100, n_jobs=1, nthread=None,\n",
        "       objective='binary:logistic', random_state=0, reg_alpha=0,\n",
        "       reg_lambda=1, scale_pos_weight=1\n",
        "       subsample=1)"
      ],
      "execution_count": 37,
      "outputs": []
    },
    {
      "cell_type": "code",
      "metadata": {
        "id": "tM3c-PyZFG6S"
      },
      "source": [
        "xgboost_classifier=classifier.fit(X_train,y_train)"
      ],
      "execution_count": 40,
      "outputs": []
    },
    {
      "cell_type": "code",
      "metadata": {
        "colab": {
          "base_uri": "https://localhost:8080/"
        },
        "id": "8j-lF2sRFrEr",
        "outputId": "ebc0557d-d765-48de-861e-afbce156e622"
      },
      "source": [
        "predict_train_data = xgboost_classifier.predict(X_test)\n",
        "\n",
        "from sklearn import metrics\n",
        "\n",
        "print(\"Accuracy = {0:.3f}\".format(metrics.accuracy_score(y_test, predict_train_data)))"
      ],
      "execution_count": 41,
      "outputs": [
        {
          "output_type": "stream",
          "text": [
            "Accuracy = 0.482\n"
          ],
          "name": "stdout"
        }
      ]
    },
    {
      "cell_type": "code",
      "metadata": {
        "id": "APushJ20Gr8A"
      },
      "source": [
        "X=data.iloc[:,:-1]\n",
        "y=data.iloc[:,-1]"
      ],
      "execution_count": 43,
      "outputs": []
    },
    {
      "cell_type": "code",
      "metadata": {
        "colab": {
          "base_uri": "https://localhost:8080/"
        },
        "id": "bh_0AkvmFzmJ",
        "outputId": "3ef9bde2-a23a-4baf-c093-f07c78724a6f"
      },
      "source": [
        "from sklearn.preprocessing import LabelEncoder\n",
        "\n",
        "from keras.models import Sequential\n",
        "from keras.layers import Dense\n",
        " \n",
        " \n",
        "\n",
        "def prepare_inputs(X_train, X_test):\n",
        "\t\n",
        "\tX_train_enc = X_train\n",
        "\tX_test_enc = X_test\n",
        "\treturn X_train_enc, X_test_enc\n",
        " \n",
        "\n",
        "def prepare_targets(y_train, y_test):\n",
        "\tle = LabelEncoder()\n",
        "\tle.fit(y_train)\n",
        "\ty_train_enc = le.transform(y_train)\n",
        "\ty_test_enc = le.transform(y_test)\n",
        "\treturn y_train_enc, y_test_enc\n",
        " \n",
        "\n",
        "X_train, X_test, y_train, y_test = train_test_split(X, y, test_size=0.33, random_state=1)\n",
        "# prepare input data\n",
        "X_train_enc, X_test_enc = prepare_inputs(X_train, X_test)\n",
        "# prepare output data\n",
        "y_train_enc, y_test_enc = prepare_targets(y_train, y_test)\n",
        "# define the  model\n",
        "model = Sequential()\n",
        "model.add(Dense(10, input_dim=X_train_enc.shape[1], activation='relu', kernel_initializer='he_normal'))\n",
        "model.add(Dense(10, input_dim=X_train_enc.shape[1], activation='relu', kernel_initializer='he_normal'))\n",
        "model.add(Dense(1, activation='softmax'))\n",
        "# compile the keras model\n",
        "model.compile(loss='binary_crossentropy', optimizer='adam', metrics=['accuracy'])\n",
        "# fit the keras model on the dataset\n",
        "model.fit(X_train_enc, y_train_enc, epochs=100, batch_size=16, verbose=2)\n",
        "# evaluate the keras model\n",
        "_, accuracy = model.evaluate(X_test_enc, y_test_enc, verbose=0)\n",
        "print('Accuracy: %.2f' % (accuracy*100))"
      ],
      "execution_count": 78,
      "outputs": [
        {
          "output_type": "stream",
          "text": [
            "Epoch 1/100\n",
            "47/47 - 0s - loss: 23.2036 - accuracy: 0.5414\n",
            "Epoch 2/100\n",
            "47/47 - 0s - loss: 3.3589 - accuracy: 0.5414\n",
            "Epoch 3/100\n",
            "47/47 - 0s - loss: 3.0119 - accuracy: 0.5414\n",
            "Epoch 4/100\n",
            "47/47 - 0s - loss: 2.8219 - accuracy: 0.5414\n",
            "Epoch 5/100\n",
            "47/47 - 0s - loss: 2.6310 - accuracy: 0.5414\n",
            "Epoch 6/100\n",
            "47/47 - 0s - loss: 2.5434 - accuracy: 0.5414\n",
            "Epoch 7/100\n",
            "47/47 - 0s - loss: 2.3941 - accuracy: 0.5414\n",
            "Epoch 8/100\n",
            "47/47 - 0s - loss: 2.1231 - accuracy: 0.5414\n",
            "Epoch 9/100\n",
            "47/47 - 0s - loss: 2.0414 - accuracy: 0.5414\n",
            "Epoch 10/100\n",
            "47/47 - 0s - loss: 1.8798 - accuracy: 0.5414\n",
            "Epoch 11/100\n",
            "47/47 - 0s - loss: 1.8343 - accuracy: 0.5414\n",
            "Epoch 12/100\n",
            "47/47 - 0s - loss: 1.6347 - accuracy: 0.5414\n",
            "Epoch 13/100\n",
            "47/47 - 0s - loss: 1.6572 - accuracy: 0.5414\n",
            "Epoch 14/100\n",
            "47/47 - 0s - loss: 1.5979 - accuracy: 0.5414\n",
            "Epoch 15/100\n",
            "47/47 - 0s - loss: 1.4736 - accuracy: 0.5414\n",
            "Epoch 16/100\n",
            "47/47 - 0s - loss: 1.4443 - accuracy: 0.5414\n",
            "Epoch 17/100\n",
            "47/47 - 0s - loss: 1.3413 - accuracy: 0.5414\n",
            "Epoch 18/100\n",
            "47/47 - 0s - loss: 1.3115 - accuracy: 0.5414\n",
            "Epoch 19/100\n",
            "47/47 - 0s - loss: 1.2713 - accuracy: 0.5414\n",
            "Epoch 20/100\n",
            "47/47 - 0s - loss: 1.2895 - accuracy: 0.5414\n",
            "Epoch 21/100\n",
            "47/47 - 0s - loss: 1.2358 - accuracy: 0.5414\n",
            "Epoch 22/100\n",
            "47/47 - 0s - loss: 1.2263 - accuracy: 0.5414\n",
            "Epoch 23/100\n",
            "47/47 - 0s - loss: 1.1303 - accuracy: 0.5414\n",
            "Epoch 24/100\n",
            "47/47 - 0s - loss: 1.1952 - accuracy: 0.5414\n",
            "Epoch 25/100\n",
            "47/47 - 0s - loss: 1.1039 - accuracy: 0.5414\n",
            "Epoch 26/100\n",
            "47/47 - 0s - loss: 1.0544 - accuracy: 0.5414\n",
            "Epoch 27/100\n",
            "47/47 - 0s - loss: 1.0956 - accuracy: 0.5414\n",
            "Epoch 28/100\n",
            "47/47 - 0s - loss: 1.0263 - accuracy: 0.5414\n",
            "Epoch 29/100\n",
            "47/47 - 0s - loss: 1.0176 - accuracy: 0.5414\n",
            "Epoch 30/100\n",
            "47/47 - 0s - loss: 0.9951 - accuracy: 0.5414\n",
            "Epoch 31/100\n",
            "47/47 - 0s - loss: 1.0335 - accuracy: 0.5414\n",
            "Epoch 32/100\n",
            "47/47 - 0s - loss: 0.9967 - accuracy: 0.5414\n",
            "Epoch 33/100\n",
            "47/47 - 0s - loss: 0.9912 - accuracy: 0.5414\n",
            "Epoch 34/100\n",
            "47/47 - 0s - loss: 0.9725 - accuracy: 0.5414\n",
            "Epoch 35/100\n",
            "47/47 - 0s - loss: 0.9820 - accuracy: 0.5414\n",
            "Epoch 36/100\n",
            "47/47 - 0s - loss: 0.9757 - accuracy: 0.5414\n",
            "Epoch 37/100\n",
            "47/47 - 0s - loss: 0.9575 - accuracy: 0.5414\n",
            "Epoch 38/100\n",
            "47/47 - 0s - loss: 0.9221 - accuracy: 0.5414\n",
            "Epoch 39/100\n",
            "47/47 - 0s - loss: 0.8994 - accuracy: 0.5414\n",
            "Epoch 40/100\n",
            "47/47 - 0s - loss: 0.8633 - accuracy: 0.5414\n",
            "Epoch 41/100\n",
            "47/47 - 0s - loss: 0.9864 - accuracy: 0.5414\n",
            "Epoch 42/100\n",
            "47/47 - 0s - loss: 0.9072 - accuracy: 0.5414\n",
            "Epoch 43/100\n",
            "47/47 - 0s - loss: 0.8669 - accuracy: 0.5414\n",
            "Epoch 44/100\n",
            "47/47 - 0s - loss: 0.9981 - accuracy: 0.5414\n",
            "Epoch 45/100\n",
            "47/47 - 0s - loss: 0.8648 - accuracy: 0.5414\n",
            "Epoch 46/100\n",
            "47/47 - 0s - loss: 0.8463 - accuracy: 0.5414\n",
            "Epoch 47/100\n",
            "47/47 - 0s - loss: 1.0443 - accuracy: 0.5414\n",
            "Epoch 48/100\n",
            "47/47 - 0s - loss: 0.9639 - accuracy: 0.5414\n",
            "Epoch 49/100\n",
            "47/47 - 0s - loss: 0.8711 - accuracy: 0.5414\n",
            "Epoch 50/100\n",
            "47/47 - 0s - loss: 0.8371 - accuracy: 0.5414\n",
            "Epoch 51/100\n",
            "47/47 - 0s - loss: 0.8275 - accuracy: 0.5414\n",
            "Epoch 52/100\n",
            "47/47 - 0s - loss: 0.7935 - accuracy: 0.5414\n",
            "Epoch 53/100\n",
            "47/47 - 0s - loss: 0.8382 - accuracy: 0.5414\n",
            "Epoch 54/100\n",
            "47/47 - 0s - loss: 0.7989 - accuracy: 0.5414\n",
            "Epoch 55/100\n",
            "47/47 - 0s - loss: 0.8485 - accuracy: 0.5414\n",
            "Epoch 56/100\n",
            "47/47 - 0s - loss: 0.7844 - accuracy: 0.5414\n",
            "Epoch 57/100\n",
            "47/47 - 0s - loss: 0.8000 - accuracy: 0.5414\n",
            "Epoch 58/100\n",
            "47/47 - 0s - loss: 0.8844 - accuracy: 0.5414\n",
            "Epoch 59/100\n",
            "47/47 - 0s - loss: 0.8124 - accuracy: 0.5414\n",
            "Epoch 60/100\n",
            "47/47 - 0s - loss: 0.8747 - accuracy: 0.5414\n",
            "Epoch 61/100\n",
            "47/47 - 0s - loss: 0.7764 - accuracy: 0.5414\n",
            "Epoch 62/100\n",
            "47/47 - 0s - loss: 0.9090 - accuracy: 0.5414\n",
            "Epoch 63/100\n",
            "47/47 - 0s - loss: 0.8062 - accuracy: 0.5414\n",
            "Epoch 64/100\n",
            "47/47 - 0s - loss: 0.7796 - accuracy: 0.5414\n",
            "Epoch 65/100\n",
            "47/47 - 0s - loss: 0.8478 - accuracy: 0.5414\n",
            "Epoch 66/100\n",
            "47/47 - 0s - loss: 0.8754 - accuracy: 0.5414\n",
            "Epoch 67/100\n",
            "47/47 - 0s - loss: 0.8217 - accuracy: 0.5414\n",
            "Epoch 68/100\n",
            "47/47 - 0s - loss: 0.7971 - accuracy: 0.5414\n",
            "Epoch 69/100\n",
            "47/47 - 0s - loss: 0.7694 - accuracy: 0.5414\n",
            "Epoch 70/100\n",
            "47/47 - 0s - loss: 0.8005 - accuracy: 0.5414\n",
            "Epoch 71/100\n",
            "47/47 - 0s - loss: 0.8804 - accuracy: 0.5414\n",
            "Epoch 72/100\n",
            "47/47 - 0s - loss: 0.8172 - accuracy: 0.5414\n",
            "Epoch 73/100\n",
            "47/47 - 0s - loss: 0.7544 - accuracy: 0.5414\n",
            "Epoch 74/100\n",
            "47/47 - 0s - loss: 0.7845 - accuracy: 0.5414\n",
            "Epoch 75/100\n",
            "47/47 - 0s - loss: 0.8596 - accuracy: 0.5414\n",
            "Epoch 76/100\n",
            "47/47 - 0s - loss: 0.7651 - accuracy: 0.5414\n",
            "Epoch 77/100\n",
            "47/47 - 0s - loss: 0.7810 - accuracy: 0.5414\n",
            "Epoch 78/100\n",
            "47/47 - 0s - loss: 0.7719 - accuracy: 0.5414\n",
            "Epoch 79/100\n",
            "47/47 - 0s - loss: 0.7620 - accuracy: 0.5414\n",
            "Epoch 80/100\n",
            "47/47 - 0s - loss: 0.7765 - accuracy: 0.5414\n",
            "Epoch 81/100\n",
            "47/47 - 0s - loss: 0.7610 - accuracy: 0.5414\n",
            "Epoch 82/100\n",
            "47/47 - 0s - loss: 0.7436 - accuracy: 0.5414\n",
            "Epoch 83/100\n",
            "47/47 - 0s - loss: 0.7475 - accuracy: 0.5414\n",
            "Epoch 84/100\n",
            "47/47 - 0s - loss: 0.7486 - accuracy: 0.5414\n",
            "Epoch 85/100\n",
            "47/47 - 0s - loss: 0.7546 - accuracy: 0.5414\n",
            "Epoch 86/100\n",
            "47/47 - 0s - loss: 0.7811 - accuracy: 0.5414\n",
            "Epoch 87/100\n",
            "47/47 - 0s - loss: 0.7816 - accuracy: 0.5414\n",
            "Epoch 88/100\n",
            "47/47 - 0s - loss: 0.7293 - accuracy: 0.5414\n",
            "Epoch 89/100\n",
            "47/47 - 0s - loss: 0.7410 - accuracy: 0.5414\n",
            "Epoch 90/100\n",
            "47/47 - 0s - loss: 0.7524 - accuracy: 0.5414\n",
            "Epoch 91/100\n",
            "47/47 - 0s - loss: 0.7939 - accuracy: 0.5414\n",
            "Epoch 92/100\n",
            "47/47 - 0s - loss: 0.7625 - accuracy: 0.5414\n",
            "Epoch 93/100\n",
            "47/47 - 0s - loss: 0.7445 - accuracy: 0.5414\n",
            "Epoch 94/100\n",
            "47/47 - 0s - loss: 0.7601 - accuracy: 0.5414\n",
            "Epoch 95/100\n",
            "47/47 - 0s - loss: 0.7277 - accuracy: 0.5414\n",
            "Epoch 96/100\n",
            "47/47 - 0s - loss: 0.7157 - accuracy: 0.5414\n",
            "Epoch 97/100\n",
            "47/47 - 0s - loss: 0.7175 - accuracy: 0.5414\n",
            "Epoch 98/100\n",
            "47/47 - 0s - loss: 0.7529 - accuracy: 0.5414\n",
            "Epoch 99/100\n",
            "47/47 - 0s - loss: 0.7382 - accuracy: 0.5414\n",
            "Epoch 100/100\n",
            "47/47 - 0s - loss: 0.7300 - accuracy: 0.5414\n",
            "Accuracy: 47.11\n"
          ],
          "name": "stdout"
        }
      ]
    },
    {
      "cell_type": "code",
      "metadata": {
        "id": "J_rVaJgV-Roz"
      },
      "source": [
        "new_input = [[646.25,208.77,\t0.186321,\t72.5,\t13,\t139.75,\t88.75,\t84.25,\t58.5,\t50.5,211.5]]\n",
        "\n",
        "new_output = model.predict(new_input)"
      ],
      "execution_count": 79,
      "outputs": []
    },
    {
      "cell_type": "code",
      "metadata": {
        "colab": {
          "base_uri": "https://localhost:8080/"
        },
        "id": "lOLu7r5O-iLF",
        "outputId": "2b6a5783-20f6-4a97-b966-43e5d00b2a51"
      },
      "source": [
        "print(new_input,new_output)"
      ],
      "execution_count": 80,
      "outputs": [
        {
          "output_type": "stream",
          "text": [
            "[[646.25, 208.77, 0.186321, 72.5, 13, 139.75, 88.75, 84.25, 58.5, 50.5, 211.5]] [[1.]]\n"
          ],
          "name": "stdout"
        }
      ]
    }
  ]
}